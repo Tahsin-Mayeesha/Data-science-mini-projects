{
 "cells": [
  {
   "cell_type": "code",
   "execution_count": 14,
   "metadata": {
    "collapsed": true
   },
   "outputs": [],
   "source": [
    "import nltk\n",
    "from nltk.tag import StanfordNERTagger"
   ]
  },
  {
   "cell_type": "code",
   "execution_count": 2,
   "metadata": {
    "collapsed": true
   },
   "outputs": [],
   "source": [
    "from nltk.tokenize import word_tokenize"
   ]
  },
  {
   "cell_type": "code",
   "execution_count": 11,
   "metadata": {
    "collapsed": true
   },
   "outputs": [
    {
     "data": {
      "text/plain": [
       "'G:\\\\stanford-ner-2015-12-09\\\\classifiers\\\\english.all.3class.distsim.crf.ser.gz'"
      ]
     },
     "execution_count": 11,
     "metadata": {},
     "output_type": "execute_result"
    }
   ],
   "source": [
    "import os\n",
    "tagger_path = os.path.abspath(\"G:\\stanford-ner-2015-12-09\\stanford-ner.jar\")\n",
    "classifier_path = os.path.abspath(\"G:\\stanford-ner-2015-12-09\\classifiers\\english.all.3class.distsim.crf.ser.gz\")\n"
   ]
  },
  {
   "cell_type": "code",
   "execution_count": 29,
   "metadata": {
    "collapsed": false
   },
   "outputs": [],
   "source": [
    "\n",
    "java_path = \"C:\\Program Files (x86)\\Java\\jre1.8.0_77\\\\bin\\java.exe\"\n",
    "os.environ['JAVAHOME'] = java_path\n"
   ]
  },
  {
   "cell_type": "code",
   "execution_count": 40,
   "metadata": {
    "collapsed": false
   },
   "outputs": [],
   "source": [
    "st = StanfordNERTagger(\"G:\\stanford-ner-2015-12-09\\classifiers\\english.all.3class.distsim.crf.ser.gz\",\n",
    "                       \"G:\\stanford-ner-2015-12-09\\stanford-ner.jar\",encoding = \"UTF-8\")"
   ]
  },
  {
   "cell_type": "code",
   "execution_count": 41,
   "metadata": {
    "collapsed": false
   },
   "outputs": [],
   "source": [
    "#text = 'While in France, Christine Lagarde discussed short-term stimulus efforts in a recent interview with the Wall Street Journal.'\n",
    "\n",
    "#tokenized_text = word_tokenize(text)\n",
    "#classified_text = st.tag(tokenized_text)\n",
    "\n",
    "#print(classified_text)\n",
    "#print st.tag(\"Alice was assulted by John in Dhaka\")"
   ]
  },
  {
   "cell_type": "code",
   "execution_count": 44,
   "metadata": {
    "collapsed": false
   },
   "outputs": [
    {
     "name": "stdout",
     "output_type": "stream",
     "text": [
      "[(u'Alice', u'PERSON'), (u'was', u'O'), (u'assulted', u'O'), (u'by', u'O'), (u'John', u'PERSON'), (u'in', u'O'), (u'Dhaka', u'LOCATION')]\n"
     ]
    }
   ],
   "source": [
    "text_2 = \"Alice was assulted by John in Dhaka\"\n",
    "tokenized_text_2 = word_tokenize(text_2)\n",
    "classified_text_2 = st.tag(tokenized_text_2)\n",
    "print classified_text_2"
   ]
  },
  {
   "cell_type": "code",
   "execution_count": null,
   "metadata": {
    "collapsed": true
   },
   "outputs": [],
   "source": []
  }
 ],
 "metadata": {
  "kernelspec": {
   "display_name": "Python 2",
   "language": "python",
   "name": "python2"
  },
  "language_info": {
   "codemirror_mode": {
    "name": "ipython",
    "version": 2
   },
   "file_extension": ".py",
   "mimetype": "text/x-python",
   "name": "python",
   "nbconvert_exporter": "python",
   "pygments_lexer": "ipython2",
   "version": "2.7.12"
  }
 },
 "nbformat": 4,
 "nbformat_minor": 0
}
