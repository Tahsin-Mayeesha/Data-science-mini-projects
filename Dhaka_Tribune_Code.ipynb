{
 "cells": [
  {
   "cell_type": "code",
   "execution_count": 1,
   "metadata": {
    "collapsed": false
   },
   "outputs": [
    {
     "name": "stdout",
     "output_type": "stream",
     "text": [
      "<class 'pymongo.cursor.Cursor'>\n"
     ]
    }
   ],
   "source": [
    "from pymongo import MongoClient\n",
    "\n",
    "#mongoimport --db bd_news --collection dhaka_tribune file_name\n",
    "client = MongoClient()\n",
    "db = client.bd_news\n",
    "coll = db.dhaka_tribune\n",
    "x = coll.find()\n",
    "print type(x)\n",
    "\n",
    "news = list()\n",
    "\n",
    "for i in x:\n",
    "    news.append(i)\n",
    "    \n",
    "\n",
    "    \n",
    "    "
   ]
  },
  {
   "cell_type": "code",
   "execution_count": 2,
   "metadata": {
    "collapsed": false
   },
   "outputs": [
    {
     "data": {
      "text/plain": [
       "49055"
      ]
     },
     "execution_count": 2,
     "metadata": {},
     "output_type": "execute_result"
    }
   ],
   "source": [
    "len(news)"
   ]
  },
  {
   "cell_type": "code",
   "execution_count": 3,
   "metadata": {
    "collapsed": true
   },
   "outputs": [],
   "source": [
    "specific_keyword = ['rape','raped','raping','sexual assult','gang raped','dowry','acid victim','eve teasing','felani','tonu',]"
   ]
  },
  {
   "cell_type": "code",
   "execution_count": 4,
   "metadata": {
    "collapsed": true
   },
   "outputs": [],
   "source": [
    "filtered_news = []\n",
    "\n",
    "for n in news:\n",
    "     for k in specific_keyword:\n",
    "         if k in n['news_keywords']:\n",
    "                    #print n['news_headline']\n",
    "                    #print n['news_keywords']\n",
    "                    #print n['news_ner_tags']['organizations_unique']\n",
    "                    #print n['news_ner_tags']['persons_unique']\n",
    "                    filtered_news.append(n)"
   ]
  },
  {
   "cell_type": "code",
   "execution_count": null,
   "metadata": {
    "collapsed": true
   },
   "outputs": [],
   "source": [
    "import networkx as nx\n",
    "from itertools import combinations\n",
    "import matplotlib.pyplot as plt\n",
    "%matplotlib inline\n",
    "\n",
    "\n",
    "N = nx.Graph()\n",
    "for n in filtered_news:\n",
    "    nodes = (n['news_ner_tags']['organizations_unique'] + n['news_ner_tags']['persons_unique'] + n['news_ner_tags']['locations_unique'])\n",
    "    edges = list(combinations(nodes,2))\n",
    "    M = nx.Graph()\n",
    "    M.add_nodes_from(nodes)\n",
    "    M.add_edges_from(edges)\n",
    "    N = nx.compose(M,N)\n",
    "    "
   ]
  },
  {
   "cell_type": "code",
   "execution_count": null,
   "metadata": {
    "collapsed": true
   },
   "outputs": [],
   "source": [
    "# sorted(degrees.items(), key=lambda x: x[1],reverse = True)\n",
    "\n",
    "N.remove_nodes_from(['Bangladesh','Dhaka Tribune'])"
   ]
  },
  {
   "cell_type": "code",
   "execution_count": null,
   "metadata": {
    "collapsed": true
   },
   "outputs": [],
   "source": [
    "nx.write_graphml(N,\"dhaka_tribune_women_2.graphml\")\n",
    "\n",
    "nx.write_gexf(N, \"harassment_women_2.gexf\")"
   ]
  }
 ],
 "metadata": {
  "kernelspec": {
   "display_name": "Python 2",
   "language": "python",
   "name": "python2"
  },
  "language_info": {
   "codemirror_mode": {
    "name": "ipython",
    "version": 2
   },
   "file_extension": ".py",
   "mimetype": "text/x-python",
   "name": "python",
   "nbconvert_exporter": "python",
   "pygments_lexer": "ipython2",
   "version": "2.7.12"
  }
 },
 "nbformat": 4,
 "nbformat_minor": 0
}
